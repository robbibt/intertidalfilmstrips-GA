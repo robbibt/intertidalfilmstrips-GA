{
 "cells": [
  {
   "cell_type": "markdown",
   "metadata": {},
   "source": [
    "# execute_notebooks\n",
    "\n",
    "**Summary**: Uses nbrun (https://github.com/tritemio/nbrun) to batch run Jupyter notebooks by replacing first line of notebook with custom variable value.  \n",
    "\n",
    "**Issues**: None.\n",
    "\n",
    "**Notes**: None."
   ]
  },
  {
   "cell_type": "markdown",
   "metadata": {},
   "source": [
    "## Execute notebooks"
   ]
  },
  {
   "cell_type": "code",
   "execution_count": null,
   "metadata": {},
   "outputs": [],
   "source": [
    "from nbrun import run_notebook\n",
    "\n",
    "# Set up notebook to run\n",
    "nb_name = 'tidal_composites.ipynb'\n",
    "\n",
    "# List of sites to run\n",
    "sites_list = (0, 1, 6, 8, 10, 27, 36, 37, 39, 68, 15, 16, 18, 19, 25, 26, 28, 34, 43, 45, 47, 48, 52, \\\n",
    "              55, 57, 60, 61, 65, 69, 71, 72, 73, 74, 76, 80, 81, 82, 85, 86, 88, 89, 92, 94, 22, \\\n",
    "              24, 53, 54, 62, 64, 66, 75, 93, 2, 4, 5, 7, 9, 13, 14, 17, 20, 21, 23, 29, 30, 31, \\\n",
    "              32, 33, 35, 38, 40, 44, 46, 49, 50, 51, 56, 58, 59, 63, 67, 70, 77, 78, 79, 41, 83, 84, \\\n",
    "              90, 95, 96, 97, 98, 99, 100, 101, 102, 103, 104, 105, 106, 107, 108, 109, 110, 111)\n",
    "\n",
    "# Run jupyter notebooks seperately for each site in list (inserts 'site_n = n' to front of notebook)\n",
    "for site_n in sites_list:\n",
    "    print(\"Running site \" + str(site_n))\n",
    "    nb_kwargs = {'site_n': site_n}\n",
    "    try:\n",
    "        run_notebook(nb_name, suffix='-out_%d' % (site_n), nb_kwargs=nb_kwargs)\n",
    "    except: \n",
    "        print(\"Site \" + str(site_n) + \" failed to process correctly; see notebook for error\")   \n",
    "    "
   ]
  }
 ],
 "metadata": {
  "kernelspec": {
   "display_name": "Python 3",
   "language": "python",
   "name": "python3"
  },
  "language_info": {
   "codemirror_mode": {
    "name": "ipython",
    "version": 3
   },
   "file_extension": ".py",
   "mimetype": "text/x-python",
   "name": "python",
   "nbconvert_exporter": "python",
   "pygments_lexer": "ipython3",
   "version": "3.6.3"
  },
  "toc": {
   "nav_menu": {
    "height": "84px",
    "width": "252px"
   },
   "number_sections": false,
   "sideBar": true,
   "skip_h1_title": false,
   "toc_cell": false,
   "toc_position": {},
   "toc_section_display": "block",
   "toc_window_display": false
  }
 },
 "nbformat": 4,
 "nbformat_minor": 1
}
