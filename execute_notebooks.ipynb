{
 "cells": [
  {
   "cell_type": "code",
   "execution_count": 1,
   "metadata": {},
   "outputs": [],
   "source": [
    "from nbrun import run_notebook"
   ]
  },
  {
   "cell_type": "markdown",
   "metadata": {},
   "source": [
    "## Execute notebooks"
   ]
  },
  {
   "cell_type": "code",
   "execution_count": 2,
   "metadata": {},
   "outputs": [],
   "source": [
    "nb_name = 'tidal_composites.ipynb'"
   ]
  },
  {
   "cell_type": "code",
   "execution_count": 4,
   "metadata": {},
   "outputs": [
    {
     "name": "stdout",
     "output_type": "stream",
     "text": [
      "Running site 96\n"
     ]
    },
    {
     "data": {
      "text/html": [
       "<a href='tidal_composites.ipynb' target='_blank'>tidal_composites.ipynb</a><br>"
      ],
      "text/plain": [
       "/g/data1/r78/rt1527/intertidal/tidal_composites.ipynb"
      ]
     },
     "metadata": {},
     "output_type": "display_data"
    },
    {
     "data": {
      "text/html": [
       "<a href='tidal_composites-out_96.ipynb' target='_blank'>tidal_composites-out_96.ipynb</a><br>"
      ],
      "text/plain": [
       "/g/data1/r78/rt1527/intertidal/tidal_composites-out_96.ipynb"
      ]
     },
     "metadata": {},
     "output_type": "display_data"
    },
    {
     "name": "stdout",
     "output_type": "stream",
     "text": [
      "Running site 97\n"
     ]
    },
    {
     "data": {
      "text/html": [
       "<a href='tidal_composites.ipynb' target='_blank'>tidal_composites.ipynb</a><br>"
      ],
      "text/plain": [
       "/g/data1/r78/rt1527/intertidal/tidal_composites.ipynb"
      ]
     },
     "metadata": {},
     "output_type": "display_data"
    },
    {
     "data": {
      "text/html": [
       "<a href='tidal_composites-out_97.ipynb' target='_blank'>tidal_composites-out_97.ipynb</a><br>"
      ],
      "text/plain": [
       "/g/data1/r78/rt1527/intertidal/tidal_composites-out_97.ipynb"
      ]
     },
     "metadata": {},
     "output_type": "display_data"
    },
    {
     "name": "stdout",
     "output_type": "stream",
     "text": [
      "Running site 98\n"
     ]
    },
    {
     "data": {
      "text/html": [
       "<a href='tidal_composites.ipynb' target='_blank'>tidal_composites.ipynb</a><br>"
      ],
      "text/plain": [
       "/g/data1/r78/rt1527/intertidal/tidal_composites.ipynb"
      ]
     },
     "metadata": {},
     "output_type": "display_data"
    },
    {
     "data": {
      "text/html": [
       "<a href='tidal_composites-out_98.ipynb' target='_blank'>tidal_composites-out_98.ipynb</a><br>"
      ],
      "text/plain": [
       "/g/data1/r78/rt1527/intertidal/tidal_composites-out_98.ipynb"
      ]
     },
     "metadata": {},
     "output_type": "display_data"
    },
    {
     "name": "stdout",
     "output_type": "stream",
     "text": [
      "Running site 99\n"
     ]
    },
    {
     "data": {
      "text/html": [
       "<a href='tidal_composites.ipynb' target='_blank'>tidal_composites.ipynb</a><br>"
      ],
      "text/plain": [
       "/g/data1/r78/rt1527/intertidal/tidal_composites.ipynb"
      ]
     },
     "metadata": {},
     "output_type": "display_data"
    },
    {
     "data": {
      "text/html": [
       "<a href='tidal_composites-out_99.ipynb' target='_blank'>tidal_composites-out_99.ipynb</a><br>"
      ],
      "text/plain": [
       "/g/data1/r78/rt1527/intertidal/tidal_composites-out_99.ipynb"
      ]
     },
     "metadata": {},
     "output_type": "display_data"
    },
    {
     "name": "stdout",
     "output_type": "stream",
     "text": [
      "Running site 100\n"
     ]
    },
    {
     "data": {
      "text/html": [
       "<a href='tidal_composites.ipynb' target='_blank'>tidal_composites.ipynb</a><br>"
      ],
      "text/plain": [
       "/g/data1/r78/rt1527/intertidal/tidal_composites.ipynb"
      ]
     },
     "metadata": {},
     "output_type": "display_data"
    },
    {
     "data": {
      "text/html": [
       "<a href='tidal_composites-out_100.ipynb' target='_blank'>tidal_composites-out_100.ipynb</a><br>"
      ],
      "text/plain": [
       "/g/data1/r78/rt1527/intertidal/tidal_composites-out_100.ipynb"
      ]
     },
     "metadata": {},
     "output_type": "display_data"
    },
    {
     "name": "stdout",
     "output_type": "stream",
     "text": [
      "Running site 101\n"
     ]
    },
    {
     "data": {
      "text/html": [
       "<a href='tidal_composites.ipynb' target='_blank'>tidal_composites.ipynb</a><br>"
      ],
      "text/plain": [
       "/g/data1/r78/rt1527/intertidal/tidal_composites.ipynb"
      ]
     },
     "metadata": {},
     "output_type": "display_data"
    },
    {
     "data": {
      "text/html": [
       "<a href='tidal_composites-out_101.ipynb' target='_blank'>tidal_composites-out_101.ipynb</a><br>"
      ],
      "text/plain": [
       "/g/data1/r78/rt1527/intertidal/tidal_composites-out_101.ipynb"
      ]
     },
     "metadata": {},
     "output_type": "display_data"
    },
    {
     "name": "stdout",
     "output_type": "stream",
     "text": [
      "Running site 102\n"
     ]
    },
    {
     "data": {
      "text/html": [
       "<a href='tidal_composites.ipynb' target='_blank'>tidal_composites.ipynb</a><br>"
      ],
      "text/plain": [
       "/g/data1/r78/rt1527/intertidal/tidal_composites.ipynb"
      ]
     },
     "metadata": {},
     "output_type": "display_data"
    },
    {
     "data": {
      "text/html": [
       "<a href='tidal_composites-out_102.ipynb' target='_blank'>tidal_composites-out_102.ipynb</a><br>"
      ],
      "text/plain": [
       "/g/data1/r78/rt1527/intertidal/tidal_composites-out_102.ipynb"
      ]
     },
     "metadata": {},
     "output_type": "display_data"
    },
    {
     "name": "stdout",
     "output_type": "stream",
     "text": [
      "Running site 103\n"
     ]
    },
    {
     "data": {
      "text/html": [
       "<a href='tidal_composites.ipynb' target='_blank'>tidal_composites.ipynb</a><br>"
      ],
      "text/plain": [
       "/g/data1/r78/rt1527/intertidal/tidal_composites.ipynb"
      ]
     },
     "metadata": {},
     "output_type": "display_data"
    },
    {
     "data": {
      "text/html": [
       "<a href='tidal_composites-out_103.ipynb' target='_blank'>tidal_composites-out_103.ipynb</a><br>"
      ],
      "text/plain": [
       "/g/data1/r78/rt1527/intertidal/tidal_composites-out_103.ipynb"
      ]
     },
     "metadata": {},
     "output_type": "display_data"
    },
    {
     "name": "stdout",
     "output_type": "stream",
     "text": [
      "Running site 104\n"
     ]
    },
    {
     "data": {
      "text/html": [
       "<a href='tidal_composites.ipynb' target='_blank'>tidal_composites.ipynb</a><br>"
      ],
      "text/plain": [
       "/g/data1/r78/rt1527/intertidal/tidal_composites.ipynb"
      ]
     },
     "metadata": {},
     "output_type": "display_data"
    },
    {
     "data": {
      "text/html": [
       "<a href='tidal_composites-out_104.ipynb' target='_blank'>tidal_composites-out_104.ipynb</a><br>"
      ],
      "text/plain": [
       "/g/data1/r78/rt1527/intertidal/tidal_composites-out_104.ipynb"
      ]
     },
     "metadata": {},
     "output_type": "display_data"
    },
    {
     "name": "stdout",
     "output_type": "stream",
     "text": [
      "Running site 105\n"
     ]
    },
    {
     "data": {
      "text/html": [
       "<a href='tidal_composites.ipynb' target='_blank'>tidal_composites.ipynb</a><br>"
      ],
      "text/plain": [
       "/g/data1/r78/rt1527/intertidal/tidal_composites.ipynb"
      ]
     },
     "metadata": {},
     "output_type": "display_data"
    },
    {
     "data": {
      "text/html": [
       "<a href='tidal_composites-out_105.ipynb' target='_blank'>tidal_composites-out_105.ipynb</a><br>"
      ],
      "text/plain": [
       "/g/data1/r78/rt1527/intertidal/tidal_composites-out_105.ipynb"
      ]
     },
     "metadata": {},
     "output_type": "display_data"
    },
    {
     "name": "stdout",
     "output_type": "stream",
     "text": [
      "Running site 106\n"
     ]
    },
    {
     "data": {
      "text/html": [
       "<a href='tidal_composites.ipynb' target='_blank'>tidal_composites.ipynb</a><br>"
      ],
      "text/plain": [
       "/g/data1/r78/rt1527/intertidal/tidal_composites.ipynb"
      ]
     },
     "metadata": {},
     "output_type": "display_data"
    },
    {
     "data": {
      "text/html": [
       "<a href='tidal_composites-out_106.ipynb' target='_blank'>tidal_composites-out_106.ipynb</a><br>"
      ],
      "text/plain": [
       "/g/data1/r78/rt1527/intertidal/tidal_composites-out_106.ipynb"
      ]
     },
     "metadata": {},
     "output_type": "display_data"
    },
    {
     "name": "stdout",
     "output_type": "stream",
     "text": [
      "Running site 107\n"
     ]
    },
    {
     "data": {
      "text/html": [
       "<a href='tidal_composites.ipynb' target='_blank'>tidal_composites.ipynb</a><br>"
      ],
      "text/plain": [
       "/g/data1/r78/rt1527/intertidal/tidal_composites.ipynb"
      ]
     },
     "metadata": {},
     "output_type": "display_data"
    },
    {
     "data": {
      "text/html": [
       "<a href='tidal_composites-out_107.ipynb' target='_blank'>tidal_composites-out_107.ipynb</a><br>"
      ],
      "text/plain": [
       "/g/data1/r78/rt1527/intertidal/tidal_composites-out_107.ipynb"
      ]
     },
     "metadata": {},
     "output_type": "display_data"
    },
    {
     "name": "stdout",
     "output_type": "stream",
     "text": [
      "Running site 108\n"
     ]
    },
    {
     "data": {
      "text/html": [
       "<a href='tidal_composites.ipynb' target='_blank'>tidal_composites.ipynb</a><br>"
      ],
      "text/plain": [
       "/g/data1/r78/rt1527/intertidal/tidal_composites.ipynb"
      ]
     },
     "metadata": {},
     "output_type": "display_data"
    },
    {
     "data": {
      "text/html": [
       "<a href='tidal_composites-out_108.ipynb' target='_blank'>tidal_composites-out_108.ipynb</a><br>"
      ],
      "text/plain": [
       "/g/data1/r78/rt1527/intertidal/tidal_composites-out_108.ipynb"
      ]
     },
     "metadata": {},
     "output_type": "display_data"
    },
    {
     "name": "stdout",
     "output_type": "stream",
     "text": [
      "Running site 109\n"
     ]
    },
    {
     "data": {
      "text/html": [
       "<a href='tidal_composites.ipynb' target='_blank'>tidal_composites.ipynb</a><br>"
      ],
      "text/plain": [
       "/g/data1/r78/rt1527/intertidal/tidal_composites.ipynb"
      ]
     },
     "metadata": {},
     "output_type": "display_data"
    },
    {
     "data": {
      "text/html": [
       "<a href='tidal_composites-out_109.ipynb' target='_blank'>tidal_composites-out_109.ipynb</a><br>"
      ],
      "text/plain": [
       "/g/data1/r78/rt1527/intertidal/tidal_composites-out_109.ipynb"
      ]
     },
     "metadata": {},
     "output_type": "display_data"
    },
    {
     "name": "stdout",
     "output_type": "stream",
     "text": [
      "Running site 110\n"
     ]
    },
    {
     "data": {
      "text/html": [
       "<a href='tidal_composites.ipynb' target='_blank'>tidal_composites.ipynb</a><br>"
      ],
      "text/plain": [
       "/g/data1/r78/rt1527/intertidal/tidal_composites.ipynb"
      ]
     },
     "metadata": {},
     "output_type": "display_data"
    },
    {
     "data": {
      "text/html": [
       "<a href='tidal_composites-out_110.ipynb' target='_blank'>tidal_composites-out_110.ipynb</a><br>"
      ],
      "text/plain": [
       "/g/data1/r78/rt1527/intertidal/tidal_composites-out_110.ipynb"
      ]
     },
     "metadata": {},
     "output_type": "display_data"
    },
    {
     "name": "stdout",
     "output_type": "stream",
     "text": [
      "Running site 111\n"
     ]
    },
    {
     "data": {
      "text/html": [
       "<a href='tidal_composites.ipynb' target='_blank'>tidal_composites.ipynb</a><br>"
      ],
      "text/plain": [
       "/g/data1/r78/rt1527/intertidal/tidal_composites.ipynb"
      ]
     },
     "metadata": {},
     "output_type": "display_data"
    },
    {
     "data": {
      "text/html": [
       "<a href='tidal_composites-out_111.ipynb' target='_blank'>tidal_composites-out_111.ipynb</a><br>"
      ],
      "text/plain": [
       "/g/data1/r78/rt1527/intertidal/tidal_composites-out_111.ipynb"
      ]
     },
     "metadata": {},
     "output_type": "display_data"
    }
   ],
   "source": [
    "# To rerun on wider area\n",
    "sites_list = (93, 0, 1)\n",
    "\n",
    "# Sites with 'empty' or nodata ITEM data; needed workaround\n",
    "sites_list = (11, 12, 3, 87, 91) \n",
    "\n",
    "# Completed sites\n",
    "sites_list = (0, 1, 6, 8, 10, 27, 36, 37, 39, 68, 15, 16, 18, 19, 25, 26, 28, 34, 43, 45, 47, 48, 52, \\\n",
    "              55, 57, 60, 61, 65, 69, 71, 72, 73, 74, 76, 80, 81, 82, 85, 86, 88, 89, 92, 94, 22, \\\n",
    "              24, 53, 54, 62, 64, 66, 75, 93, 2, 4, 5, 7, 9, 13, 14, 17, 20, 21, 23, 29, 30, 31, \\\n",
    "              32, 33, 35, 38, 40, 44, 46, 49, 50, 51, 56, 58, 59, 63, 67, 70, 77, 78, 79, 41, 83, 84, \\\n",
    "              90, 95)\n",
    "\n",
    "# Currently running sites\n",
    "sites_list = (96, 97, 98, 99, 100, 101, 102, 103, 104, 105, 106, 107, 108, 109, 110, 111)\n",
    "# sites_list = (93, 0, 1)\n",
    "\n",
    "# Run jupyter notebooks seperately for each site in list (inserts 'site_n = n' to front of notebook)\n",
    "for site_n in sites_list:\n",
    "    print(\"Running site \" + str(site_n))\n",
    "    nb_kwargs = {'site_n': site_n}\n",
    "    try:\n",
    "        run_notebook(nb_name, suffix='-out_%d' % (site_n), nb_kwargs=nb_kwargs)\n",
    "    except: \n",
    "        print(\"Site \" + str(site_n) + \" failed to process correctly; see notebook for error\")   \n",
    "    "
   ]
  },
  {
   "cell_type": "markdown",
   "metadata": {},
   "source": [
    "# Avoiding Broken Links\n",
    "\n",
    "`run_notebook()` by defaults displays links to template and output notebooks. \n",
    "Under some conditions these links can be broken. The following requirements\n",
    "must be followed to avoid link breakage.\n",
    "\n",
    "First, the template and output notebooks need to be\n",
    "accessible to jupyter notebook, so they need to be in a subfolder of the\n",
    "jupyter notebook startup folder.\n",
    "\n",
    "Second, the current working directory of the **master notebook**\n",
    "must be the folder containing the master notebook. \n",
    "This is the default when starting a new notebook.\n",
    "So, links are correctly generated unless you explicitly change dir \n",
    "(e.g. using `cd` or `os.chdir`).\n",
    "If you need to change working dir, just switch back to the \n",
    "original folder before calling `run_notebook()` to avoid broken links."
   ]
  }
 ],
 "metadata": {
  "kernelspec": {
   "display_name": "Python 3",
   "language": "python",
   "name": "python3"
  },
  "language_info": {
   "codemirror_mode": {
    "name": "ipython",
    "version": 3
   },
   "file_extension": ".py",
   "mimetype": "text/x-python",
   "name": "python",
   "nbconvert_exporter": "python",
   "pygments_lexer": "ipython3",
   "version": "3.6.3"
  },
  "toc": {
   "nav_menu": {
    "height": "84px",
    "width": "252px"
   },
   "number_sections": false,
   "sideBar": true,
   "skip_h1_title": false,
   "toc_cell": false,
   "toc_position": {},
   "toc_section_display": "block",
   "toc_window_display": false
  }
 },
 "nbformat": 4,
 "nbformat_minor": 1
}
